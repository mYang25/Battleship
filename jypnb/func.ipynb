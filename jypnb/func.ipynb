{
 "cells": [
  {
   "cell_type": "code",
   "execution_count": null,
   "metadata": {},
   "outputs": [],
   "source": [
    "import pygame\n",
    "from pygame.locals import *\n",
    "import pygame.sprite\n",
    "import random"
   ]
  },
  {
   "cell_type": "code",
   "execution_count": null,
   "metadata": {},
   "outputs": [],
   "source": [
    "seaColor = (12, 15, 95)\n",
    "hitColor = (211, 0, 0)\n",
    "missColor = (230, 230, 230)\n",
    "width = 1000\n",
    "height = 500\n",
    "\n",
    "sizes = [5, 4, 3, 3, 2]\n",
    "turnCounter = 0\n",
    "shipCounter = len(sizes)"
   ]
  },
  {
   "cell_type": "code",
   "execution_count": null,
   "metadata": {},
   "outputs": [],
   "source": [
    "class Sprite(pygame.sprite.Sprite):\n",
    "    def __init__(self, width, height):\n",
    "        super().__init__()\n",
    "        \n",
    "        self.image = pygame.Surface((width, height))\n",
    "        self.image.fill(seaColor)\n",
    "        self.rect = self.image.get_rect()\n",
    "        self.empty = True\n",
    "        self.ship = None\n",
    "        \n",
    "        "
   ]
  },
  {
   "cell_type": "code",
   "execution_count": null,
   "metadata": {},
   "outputs": [],
   "source": [
    "screen = pygame.display.set_mode((width, height))\n",
    "clock = pygame.time.Clock()"
   ]
  },
  {
   "cell_type": "code",
   "execution_count": null,
   "metadata": {},
   "outputs": [],
   "source": [
    "enemy_sprites = pygame.sprite.Group()\n",
    "ally_sprites = pygame.sprite.Group()"
   ]
  },
  {
   "cell_type": "code",
   "execution_count": null,
   "metadata": {},
   "outputs": [],
   "source": [
    "spacing = 3\n",
    "totSpacing = spacing * 11\n",
    "spriteSize = 30\n",
    "startBufferX = 100\n",
    "startBufferY = 100\n",
    "\n",
    "letter_labels = ['A', 'B', 'C', 'D', 'E', 'F', 'G', 'H', 'I', 'J']\n",
    "number_labels = ['1', '2', '3', '4', '5', '6', '7', '8', '9', '10']"
   ]
  },
  {
   "cell_type": "code",
   "execution_count": null,
   "metadata": {},
   "outputs": [],
   "source": [
    "enemy_sprite_positions = [\n",
    "    ((spriteSize + spacing) * col + spacing + startBufferX, (spriteSize + spacing) * row + spacing + startBufferY)\n",
    "    for row in range(10)\n",
    "    for col in range(10)\n",
    "]\n",
    "\n",
    "ally_sprite_positions = [\n",
    "    ((spriteSize + spacing) * col + spacing + startBufferX + height, (spriteSize + spacing) * row + spacing + startBufferY)\n",
    "    for row in range(10)\n",
    "    for col in range(10)\n",
    "]"
   ]
  },
  {
   "cell_type": "code",
   "execution_count": null,
   "metadata": {},
   "outputs": [],
   "source": [
    "for position in enemy_sprite_positions:\n",
    "    sprite = Sprite(spriteSize, spriteSize)\n",
    "    sprite.image = pygame.Surface((spriteSize, spriteSize))\n",
    "    sprite.image.fill(seaColor) \n",
    "    sprite.rect = sprite.image.get_rect()\n",
    "    sprite.rect.topleft = position\n",
    "    enemy_sprites.add(sprite)\n",
    "    \n",
    "for position in ally_sprite_positions:\n",
    "    sprite = Sprite(spriteSize, spriteSize)\n",
    "    sprite.image = pygame.Surface((spriteSize, spriteSize))\n",
    "    sprite.image.fill(seaColor) \n",
    "    sprite.rect = sprite.image.get_rect()\n",
    "    sprite.rect.topleft = position\n",
    "    ally_sprites.add(sprite)"
   ]
  },
  {
   "cell_type": "code",
   "execution_count": null,
   "metadata": {},
   "outputs": [],
   "source": [
    "class Ship:\n",
    "    def __init__(self, size):\n",
    "        self.size = size\n",
    "        self.ship_sprites = pygame.sprite.Group()"
   ]
  },
  {
   "cell_type": "code",
   "execution_count": null,
   "metadata": {},
   "outputs": [],
   "source": [
    "def create_ships(sizes):\n",
    "    ships = []\n",
    "    for size in sizes:\n",
    "        ship = Ship(size)\n",
    "        ships.append(ship)\n",
    "\n",
    "    return ships"
   ]
  },
  {
   "cell_type": "code",
   "execution_count": null,
   "metadata": {},
   "outputs": [],
   "source": [
    "def verticalShip(currship, shipSize, sprites, ship_sprites):\n",
    "    found = False\n",
    "    valid = True\n",
    "    while not found:\n",
    "        randomNum = random.randint(0, 99)\n",
    "        if (randomNum + (shipSize * 10) <= 99):\n",
    "            j = randomNum\n",
    "            valid = True\n",
    "            while (j < randomNum + (shipSize * 10)):\n",
    "                if (sprites.sprites()[j].empty == False):\n",
    "                    valid = False\n",
    "                j += 10\n",
    "            if valid:\n",
    "                j = randomNum\n",
    "                while (j < randomNum + (shipSize * 10)):\n",
    "                    sprites.sprites()[j].empty = False\n",
    "                    sprites.sprites()[j].ship = currship\n",
    "                    ship_sprites.add(sprites.sprites()[j])\n",
    "                    j += 10    \n",
    "                found = True         "
   ]
  },
  {
   "cell_type": "code",
   "execution_count": null,
   "metadata": {},
   "outputs": [],
   "source": [
    "def horizontalShip(currship, shipSize, sprites, ship_sprites):\n",
    "    found = False\n",
    "    valid = True\n",
    "    while not found:    # while ship position is not found\n",
    "        randomNum = random.randint(0, 99)\n",
    "        if ((randomNum + shipSize) % 10 > randomNum % 10) :\n",
    "            j = randomNum\n",
    "            valid = True\n",
    "            while (j < randomNum + shipSize):\n",
    "                if (sprites.sprites()[j].empty == False):\n",
    "                    valid = False\n",
    "                j += 1\n",
    "            if valid:\n",
    "                j = randomNum\n",
    "                while (j < randomNum + shipSize):\n",
    "                    sprites.sprites()[j].empty = False\n",
    "                    sprites.sprites()[j].ship = currship\n",
    "                    ship_sprites.add(sprites.sprites()[j])\n",
    "                    j += 1    \n",
    "                found = True"
   ]
  },
  {
   "cell_type": "code",
   "execution_count": null,
   "metadata": {},
   "outputs": [],
   "source": [
    "def place_ships(ships, sprites):\n",
    "    for ship in ships:\n",
    "        randOrientation = random.randint(1, 2)\n",
    "        if randOrientation == 1:\n",
    "            verticalShip(ship, ship.size, sprites, ship.ship_sprites)\n",
    "        else:\n",
    "            horizontalShip(ship, ship.size, sprites, ship.ship_sprites)"
   ]
  },
  {
   "cell_type": "code",
   "execution_count": null,
   "metadata": {},
   "outputs": [],
   "source": [
    "def check_ship_float_status(ship):\n",
    "    for sprite in ship.ship_sprites:\n",
    "        if not sprite.empty:\n",
    "            return True\n",
    "    return False"
   ]
  },
  {
   "cell_type": "code",
   "execution_count": null,
   "metadata": {},
   "outputs": [],
   "source": [
    "ships = create_ships(sizes)\n",
    "place_ships(ships, enemy_sprites)\n",
    "            "
   ]
  },
  {
   "cell_type": "code",
   "execution_count": null,
   "metadata": {},
   "outputs": [],
   "source": [
    "def main():\n",
    "    global turnCounter, shipCounter\n",
    "    \n",
    "    running = True\n",
    "    while running:\n",
    "        for event in pygame.event.get():\n",
    "            if event.type == QUIT:\n",
    "                running = False\n",
    "            elif event.type == pygame.MOUSEBUTTONUP:\n",
    "                pos = pygame.mouse.get_pos()\n",
    "                clicked_sprites = [sprite for sprite in enemy_sprites if sprite.rect.collidepoint(pos)]\n",
    "                for sprite in clicked_sprites:\n",
    "                    sprite_width, sprite_height = sprite.image.get_size()\n",
    "                    local_pos = pos[0] - sprite.rect.left, pos[1] - sprite.rect.top\n",
    "                    if (0 <= local_pos[0] < sprite_width) and (0 <= local_pos[1] < sprite_height):\n",
    "                        if (sprite.image.get_at(local_pos) == seaColor and not sprite.empty) :\n",
    "                            sprite.image.fill(hitColor)\n",
    "                            sprite.empty = True\n",
    "                            if not check_ship_float_status(sprite.ship):\n",
    "                                shipCounter -= 1\n",
    "                            turnCounter += 1\n",
    "                        elif (sprite.image.get_at(local_pos) == seaColor):\n",
    "                            sprite.image.fill(missColor)\n",
    "                            turnCounter += 1\n",
    "\n",
    "        enemy_sprites.update()\n",
    "        ally_sprites.update()\n",
    "        \n",
    "        screen.fill((0, 0, 0))\n",
    "        \n",
    "        # Draw letter labels for enemy grid\n",
    "        for i, label in enumerate(letter_labels):\n",
    "            font = pygame.font.Font(None, 24)\n",
    "            text = font.render(label, True, (255, 255, 255))\n",
    "            text_rect = text.get_rect(center=((spriteSize + spacing) * i + startBufferX + spriteSize // 2, startBufferY - 20))\n",
    "            screen.blit(text, text_rect)\n",
    "\n",
    "        # Draw number labels for enemy grid\n",
    "        for i, label in enumerate(number_labels):\n",
    "            font = pygame.font.Font(None, 24)\n",
    "            text = font.render(label, True, (255, 255, 255))\n",
    "            text_rect = text.get_rect(center=(startBufferX - 20, (spriteSize + spacing) * i + startBufferY + spriteSize // 2))\n",
    "            screen.blit(text, text_rect)\n",
    "\n",
    "        # Draw letter labels for ally grid\n",
    "        for i, label in enumerate(letter_labels):\n",
    "            font = pygame.font.Font(None, 24)\n",
    "            text = font.render(label, True, (255, 255, 255))\n",
    "            text_rect = text.get_rect(center=((spriteSize + spacing) * i + startBufferX + height + spriteSize // 2, startBufferY - 20))\n",
    "            screen.blit(text, text_rect)\n",
    "\n",
    "        # Draw number labels for ally grid\n",
    "        for i, label in enumerate(number_labels):\n",
    "            font = pygame.font.Font(None, 24)\n",
    "            text = font.render(label, True, (255, 255, 255))\n",
    "            text_rect = text.get_rect(center=(startBufferX + height - 20, (spriteSize + spacing) * i + startBufferY + spriteSize // 2))\n",
    "            screen.blit(text, text_rect)\n",
    "        \n",
    "        enemy_sprites.draw(screen)\n",
    "        ally_sprites.draw(screen)\n",
    "\n",
    "        font = pygame.font.Font(None, 36)\n",
    "        turn_count_text = font.render(\"Turns: \" + str(turnCounter), True, (255, 255, 255))\n",
    "        turn_count_text_rect = turn_count_text.get_rect()\n",
    "        turn_count_text_rect.center = (width // 2 - 70, 20)\n",
    "        screen.blit(turn_count_text, turn_count_text_rect)\n",
    "        \n",
    "        ship_count_text = font.render(\"Ships Left: \" + str(shipCounter), True, (255, 255, 255))\n",
    "        ship_count_text_rect = turn_count_text.get_rect()\n",
    "        ship_count_text_rect.center = (width // 2 + 70, 20)\n",
    "        screen.blit(ship_count_text, ship_count_text_rect)\n",
    "\n",
    "        pygame.display.flip()\n",
    "        clock.tick(60)"
   ]
  },
  {
   "cell_type": "code",
   "execution_count": null,
   "metadata": {},
   "outputs": [],
   "source": [
    "if __name__ == \"__main__\":\n",
    "    pygame.init()\n",
    "    main()\n",
    "    \n",
    "pygame.quit()"
   ]
  }
 ],
 "metadata": {
  "kernelspec": {
   "display_name": "base",
   "language": "python",
   "name": "python3"
  },
  "language_info": {
   "codemirror_mode": {
    "name": "ipython",
    "version": 3
   },
   "file_extension": ".py",
   "mimetype": "text/x-python",
   "name": "python",
   "nbconvert_exporter": "python",
   "pygments_lexer": "ipython3",
   "version": "3.11.2"
  },
  "orig_nbformat": 4
 },
 "nbformat": 4,
 "nbformat_minor": 2
}
