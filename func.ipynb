{
 "cells": [
  {
   "cell_type": "code",
   "execution_count": 12,
   "metadata": {},
   "outputs": [],
   "source": [
    "import pygame\n",
    "from pygame.locals import *\n",
    "import pygame.sprite\n",
    "import random"
   ]
  },
  {
   "cell_type": "code",
   "execution_count": 13,
   "metadata": {},
   "outputs": [],
   "source": [
    "seaColor = (12, 15, 95)\n",
    "hitColor = (211, 0, 0)\n",
    "missColor = (230, 230, 230)\n",
    "width = 586\n",
    "height = 427"
   ]
  },
  {
   "cell_type": "code",
   "execution_count": 14,
   "metadata": {},
   "outputs": [],
   "source": [
    "class Sprite(pygame.sprite.Sprite):\n",
    "    def __init__(self, width, height):\n",
    "        super().__init__()\n",
    "        \n",
    "        self.image = pygame.Surface((width, height))\n",
    "        self.image.fill(seaColor)\n",
    "        self.rect = self.image.get_rect()\n",
    "        self.empty = False\n",
    "        \n",
    "        "
   ]
  },
  {
   "cell_type": "code",
   "execution_count": 15,
   "metadata": {},
   "outputs": [],
   "source": [
    "screen = pygame.display.set_mode((width, height))\n",
    "clock = pygame.time.Clock()"
   ]
  },
  {
   "cell_type": "code",
   "execution_count": 16,
   "metadata": {},
   "outputs": [],
   "source": [
    "sprites = pygame.sprite.Group()"
   ]
  },
  {
   "cell_type": "code",
   "execution_count": 17,
   "metadata": {},
   "outputs": [],
   "source": [
    "spacing = 3\n",
    "totSpacing = spacing * 11\n",
    "spriteSize = 30"
   ]
  },
  {
   "cell_type": "code",
   "execution_count": 18,
   "metadata": {},
   "outputs": [],
   "source": [
    "sprite_positions = [\n",
    "    ((spriteSize + spacing) * col + spacing, (spriteSize + spacing) * row + spacing)\n",
    "    for row in range(10)\n",
    "    for col in range(10)\n",
    "]"
   ]
  },
  {
   "cell_type": "code",
   "execution_count": 19,
   "metadata": {},
   "outputs": [],
   "source": [
    "for position in sprite_positions:\n",
    "    sprite = Sprite(spriteSize, spriteSize)\n",
    "    sprite.image = pygame.Surface((spriteSize, spriteSize))\n",
    "    sprite.image.fill(seaColor) \n",
    "    sprite.rect = sprite.image.get_rect()\n",
    "    sprite.rect.topleft = position\n",
    "    sprites.add(sprite)"
   ]
  },
  {
   "cell_type": "code",
   "execution_count": 20,
   "metadata": {},
   "outputs": [
    {
     "name": "stdout",
     "output_type": "stream",
     "text": [
      "a\n",
      "a\n",
      "a\n",
      "a\n",
      "a\n",
      "b\n",
      "a\n",
      "a\n",
      "a\n",
      "a\n",
      "b\n",
      "a\n",
      "a\n",
      "a\n",
      "b\n",
      "a\n",
      "a\n",
      "a\n",
      "b\n",
      "a\n",
      "a\n",
      "b\n"
     ]
    }
   ],
   "source": [
    "sizes = [5, 4, 3, 3, 2]\n",
    "valid = True\n",
    "for size in sizes:  #for each size ship\n",
    "    found = False\n",
    "    while not found:    # while ship position is not found\n",
    "        randomNum = random.randint(0, 99)\n",
    "        if (randomNum + (size * 10) <= 99):     # if ship position is within grid size\n",
    "            j = randomNum\n",
    "            while (j < randomNum + (size * 10)):\n",
    "                if (sprites.sprites()[j].empty == True):\n",
    "                    valid = False\n",
    "                j += 10\n",
    "            if valid:\n",
    "                j = randomNum\n",
    "                while (j < randomNum + (size * 10)):\n",
    "                    sprites.sprites()[j].empty = True\n",
    "                    j += 10    \n",
    "                found = True\n",
    "            "
   ]
  },
  {
   "cell_type": "code",
   "execution_count": 21,
   "metadata": {},
   "outputs": [],
   "source": [
    "def main():\n",
    "    running = True\n",
    "    while running:\n",
    "        for event in pygame.event.get():\n",
    "            if event.type == QUIT:\n",
    "                running = False\n",
    "            elif event.type == pygame.MOUSEBUTTONUP:\n",
    "                pos = pygame.mouse.get_pos()\n",
    "                clicked_sprites = [sprite for sprite in sprites if sprite.rect.collidepoint(pos)]\n",
    "                for sprite in clicked_sprites:\n",
    "                    sprite_width, sprite_height = sprite.image.get_size()\n",
    "                    local_pos = pos[0] - sprite.rect.left, pos[1] - sprite.rect.top\n",
    "                    if (0 <= local_pos[0] < sprite_width) and (0 <= local_pos[1] < sprite_height):\n",
    "                        if (sprite.image.get_at(local_pos) == seaColor and sprite.empty) :\n",
    "                            sprite.image.fill(hitColor)\n",
    "                        else:\n",
    "                            sprite.image.fill(missColor)\n",
    "\n",
    "        sprites.update()\n",
    "        \n",
    "        screen.fill((0, 0, 0))\n",
    "        sprites.draw(screen)\n",
    "\n",
    "        pygame.display.flip()\n",
    "        clock.tick(60)"
   ]
  },
  {
   "cell_type": "code",
   "execution_count": 22,
   "metadata": {},
   "outputs": [],
   "source": [
    "if __name__ == \"__main__\":\n",
    "    pygame.init()\n",
    "    main()\n",
    "    \n",
    "pygame.quit()"
   ]
  }
 ],
 "metadata": {
  "kernelspec": {
   "display_name": "base",
   "language": "python",
   "name": "python3"
  },
  "language_info": {
   "codemirror_mode": {
    "name": "ipython",
    "version": 3
   },
   "file_extension": ".py",
   "mimetype": "text/x-python",
   "name": "python",
   "nbconvert_exporter": "python",
   "pygments_lexer": "ipython3",
   "version": "3.9.12"
  },
  "orig_nbformat": 4
 },
 "nbformat": 4,
 "nbformat_minor": 2
}
