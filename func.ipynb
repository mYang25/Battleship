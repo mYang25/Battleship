{
 "cells": [
  {
   "cell_type": "code",
   "execution_count": 239,
   "metadata": {},
   "outputs": [],
   "source": [
    "import pygame\n",
    "from pygame.locals import *\n",
    "import pygame.sprite\n",
    "import random"
   ]
  },
  {
   "cell_type": "code",
   "execution_count": 240,
   "metadata": {},
   "outputs": [],
   "source": [
    "seaColor = (12, 15, 95)\n",
    "hitColor = (211, 0, 0)\n",
    "missColor = (230, 230, 230)\n",
    "width = 854\n",
    "height = 427"
   ]
  },
  {
   "cell_type": "code",
   "execution_count": 241,
   "metadata": {},
   "outputs": [],
   "source": [
    "class Sprite(pygame.sprite.Sprite):\n",
    "    def __init__(self, width, height):\n",
    "        super().__init__()\n",
    "        \n",
    "        self.image = pygame.Surface((width, height))\n",
    "        self.image.fill(seaColor)\n",
    "        self.rect = self.image.get_rect()\n",
    "        self.empty = False\n",
    "        \n",
    "        "
   ]
  },
  {
   "cell_type": "code",
   "execution_count": 242,
   "metadata": {},
   "outputs": [],
   "source": [
    "screen = pygame.display.set_mode((width, height))\n",
    "clock = pygame.time.Clock()"
   ]
  },
  {
   "cell_type": "code",
   "execution_count": 243,
   "metadata": {},
   "outputs": [],
   "source": [
    "enemy_sprites = pygame.sprite.Group()\n",
    "ally_sprites = pygame.sprite.Group()"
   ]
  },
  {
   "cell_type": "code",
   "execution_count": 244,
   "metadata": {},
   "outputs": [],
   "source": [
    "spacing = 3\n",
    "totSpacing = spacing * 11\n",
    "spriteSize = 30\n",
    "startBufferX = 50\n",
    "startBufferY = 50"
   ]
  },
  {
   "cell_type": "code",
   "execution_count": 245,
   "metadata": {},
   "outputs": [],
   "source": [
    "enemy_sprite_positions = [\n",
    "    ((spriteSize + spacing) * col + spacing + startBufferX, (spriteSize + spacing) * row + spacing + startBufferY)\n",
    "    for row in range(10)\n",
    "    for col in range(10)\n",
    "]\n",
    "\n",
    "ally_sprite_positions = [\n",
    "    ((spriteSize + spacing) * col + spacing + startBufferX + height, (spriteSize + spacing) * row + spacing + startBufferY)\n",
    "    for row in range(10)\n",
    "    for col in range(10)\n",
    "]"
   ]
  },
  {
   "cell_type": "code",
   "execution_count": 246,
   "metadata": {},
   "outputs": [],
   "source": [
    "for position in enemy_sprite_positions:\n",
    "    sprite = Sprite(spriteSize, spriteSize)\n",
    "    sprite.image = pygame.Surface((spriteSize, spriteSize))\n",
    "    sprite.image.fill(seaColor) \n",
    "    sprite.rect = sprite.image.get_rect()\n",
    "    sprite.rect.topleft = position\n",
    "    enemy_sprites.add(sprite)\n",
    "    \n",
    "for position in ally_sprite_positions:\n",
    "    sprite = Sprite(spriteSize, spriteSize)\n",
    "    sprite.image = pygame.Surface((spriteSize, spriteSize))\n",
    "    sprite.image.fill(seaColor) \n",
    "    sprite.rect = sprite.image.get_rect()\n",
    "    sprite.rect.topleft = position\n",
    "    ally_sprites.add(sprite)"
   ]
  },
  {
   "cell_type": "code",
   "execution_count": 247,
   "metadata": {},
   "outputs": [],
   "source": [
    "def verticalShip(shipSize, sprites):\n",
    "    found = False\n",
    "    valid = True\n",
    "    while not found:    # while ship position is not found\n",
    "        randomNum = random.randint(0, 99)\n",
    "        if (randomNum + (shipSize * 10) <= 99):     # if ship position is within grid size\n",
    "            j = randomNum\n",
    "            valid = True\n",
    "            while (j < randomNum + (shipSize * 10)):\n",
    "                if (sprites.sprites()[j].empty == True):\n",
    "                    valid = False\n",
    "                j += 10\n",
    "            if valid:\n",
    "                j = randomNum\n",
    "                while (j < randomNum + (shipSize * 10)):\n",
    "                    sprites.sprites()[j].empty = True\n",
    "                    j += 10    \n",
    "                found = True         "
   ]
  },
  {
   "cell_type": "code",
   "execution_count": 248,
   "metadata": {},
   "outputs": [],
   "source": [
    "def horizontalShip(shipSize, sprites):\n",
    "    found = False\n",
    "    valid = True\n",
    "    while not found:    # while ship position is not found\n",
    "        randomNum = random.randint(0, 99)\n",
    "        if ((randomNum + shipSize) % 10 > randomNum % 10) :\n",
    "            j = randomNum\n",
    "            valid = True\n",
    "            while (j < randomNum + shipSize):\n",
    "                if (sprites.sprites()[j].empty == True):\n",
    "                    valid = False\n",
    "                j += 1\n",
    "            if valid:\n",
    "                j = randomNum\n",
    "                while (j < randomNum + shipSize):\n",
    "                    sprites.sprites()[j].empty = True\n",
    "                    j += 1    \n",
    "                found = True"
   ]
  },
  {
   "cell_type": "code",
   "execution_count": 249,
   "metadata": {},
   "outputs": [],
   "source": [
    "sizes = [5, 4, 3, 3, 2]\n",
    "for size in sizes:  #for each size ship\n",
    "    randOrientation = random.randint(1,2)\n",
    "    if (randOrientation == 1):\n",
    "        verticalShip(size, enemy_sprites)\n",
    "    else:\n",
    "        horizontalShip(size, enemy_sprites)\n",
    "            "
   ]
  },
  {
   "cell_type": "code",
   "execution_count": 250,
   "metadata": {},
   "outputs": [],
   "source": [
    "def main():\n",
    "    running = True\n",
    "    while running:\n",
    "        for event in pygame.event.get():\n",
    "            if event.type == QUIT:\n",
    "                running = False\n",
    "            elif event.type == pygame.MOUSEBUTTONUP:\n",
    "                pos = pygame.mouse.get_pos()\n",
    "                clicked_sprites = [sprite for sprite in enemy_sprites if sprite.rect.collidepoint(pos)]\n",
    "                for sprite in clicked_sprites:\n",
    "                    sprite_width, sprite_height = sprite.image.get_size()\n",
    "                    local_pos = pos[0] - sprite.rect.left, pos[1] - sprite.rect.top\n",
    "                    if (0 <= local_pos[0] < sprite_width) and (0 <= local_pos[1] < sprite_height):\n",
    "                        if (sprite.image.get_at(local_pos) == seaColor and sprite.empty) :\n",
    "                            sprite.image.fill(hitColor)\n",
    "                        elif (sprite.image.get_at(local_pos) == seaColor):\n",
    "                            sprite.image.fill(missColor)\n",
    "\n",
    "        enemy_sprites.update()\n",
    "        ally_sprites.update()\n",
    "        \n",
    "        screen.fill((0, 0, 0))\n",
    "        enemy_sprites.draw(screen)\n",
    "        ally_sprites.draw(screen)\n",
    "\n",
    "        pygame.display.flip()\n",
    "        clock.tick(60)"
   ]
  },
  {
   "cell_type": "code",
   "execution_count": 251,
   "metadata": {},
   "outputs": [],
   "source": [
    "if __name__ == \"__main__\":\n",
    "    pygame.init()\n",
    "    main()\n",
    "    \n",
    "pygame.quit()"
   ]
  }
 ],
 "metadata": {
  "kernelspec": {
   "display_name": "base",
   "language": "python",
   "name": "python3"
  },
  "language_info": {
   "codemirror_mode": {
    "name": "ipython",
    "version": 3
   },
   "file_extension": ".py",
   "mimetype": "text/x-python",
   "name": "python",
   "nbconvert_exporter": "python",
   "pygments_lexer": "ipython3",
   "version": "3.11.2"
  },
  "orig_nbformat": 4
 },
 "nbformat": 4,
 "nbformat_minor": 2
}
