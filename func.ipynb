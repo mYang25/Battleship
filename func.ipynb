{
 "cells": [
  {
   "cell_type": "code",
   "execution_count": 29,
   "metadata": {},
   "outputs": [],
   "source": [
    "import pygame\n",
    "from pygame.locals import *\n",
    "import pygame.sprite\n",
    "import random"
   ]
  },
  {
   "cell_type": "code",
   "execution_count": 30,
   "metadata": {},
   "outputs": [],
   "source": [
    "seaColor = (12, 15, 95)\n",
    "hitColor = (211, 0, 0)\n",
    "missColor = (230, 230, 230)\n",
    "width = 854\n",
    "height = 427"
   ]
  },
  {
   "cell_type": "code",
   "execution_count": 31,
   "metadata": {},
   "outputs": [],
   "source": [
    "class Sprite(pygame.sprite.Sprite):\n",
    "    def __init__(self, width, height):\n",
    "        super().__init__()\n",
    "        \n",
    "        self.image = pygame.Surface((width, height))\n",
    "        self.image.fill(seaColor)\n",
    "        self.rect = self.image.get_rect()\n",
    "        self.empty = False\n",
    "        \n",
    "        "
   ]
  },
  {
   "cell_type": "code",
   "execution_count": 32,
   "metadata": {},
   "outputs": [],
   "source": [
    "screen = pygame.display.set_mode((width, height))\n",
    "clock = pygame.time.Clock()"
   ]
  },
  {
   "cell_type": "code",
   "execution_count": 33,
   "metadata": {},
   "outputs": [],
   "source": [
    "enemy_sprites = pygame.sprite.Group()\n",
    "ally_sprites = pygame.sprite.Group()"
   ]
  },
  {
   "cell_type": "code",
   "execution_count": 34,
   "metadata": {},
   "outputs": [],
   "source": [
    "spacing = 3\n",
    "totSpacing = spacing * 11\n",
    "spriteSize = 30\n",
    "startBufferX = 50\n",
    "startBufferY = 50\n",
    "\n",
    "letter_labels = ['A', 'B', 'C', 'D', 'E', 'F', 'G', 'H', 'I', 'J']\n",
    "number_labels = ['1', '2', '3', '4', '5', '6', '7', '8', '9', '10']"
   ]
  },
  {
   "cell_type": "code",
   "execution_count": 35,
   "metadata": {},
   "outputs": [],
   "source": [
    "enemy_sprite_positions = [\n",
    "    ((spriteSize + spacing) * col + spacing + startBufferX, (spriteSize + spacing) * row + spacing + startBufferY)\n",
    "    for row in range(10)\n",
    "    for col in range(10)\n",
    "]\n",
    "\n",
    "ally_sprite_positions = [\n",
    "    ((spriteSize + spacing) * col + spacing + startBufferX + height, (spriteSize + spacing) * row + spacing + startBufferY)\n",
    "    for row in range(10)\n",
    "    for col in range(10)\n",
    "]"
   ]
  },
  {
   "cell_type": "code",
   "execution_count": 36,
   "metadata": {},
   "outputs": [],
   "source": [
    "for position in enemy_sprite_positions:\n",
    "    sprite = Sprite(spriteSize, spriteSize)\n",
    "    sprite.image = pygame.Surface((spriteSize, spriteSize))\n",
    "    sprite.image.fill(seaColor) \n",
    "    sprite.rect = sprite.image.get_rect()\n",
    "    sprite.rect.topleft = position\n",
    "    enemy_sprites.add(sprite)\n",
    "    \n",
    "for position in ally_sprite_positions:\n",
    "    sprite = Sprite(spriteSize, spriteSize)\n",
    "    sprite.image = pygame.Surface((spriteSize, spriteSize))\n",
    "    sprite.image.fill(seaColor) \n",
    "    sprite.rect = sprite.image.get_rect()\n",
    "    sprite.rect.topleft = position\n",
    "    ally_sprites.add(sprite)"
   ]
  },
  {
   "cell_type": "code",
   "execution_count": 37,
   "metadata": {},
   "outputs": [],
   "source": [
    "def verticalShip(shipSize, sprites):\n",
    "    found = False\n",
    "    valid = True\n",
    "    while not found:    # while ship position is not found\n",
    "        randomNum = random.randint(0, 99)\n",
    "        if (randomNum + (shipSize * 10) <= 99):     # if ship position is within grid size\n",
    "            j = randomNum\n",
    "            valid = True\n",
    "            while (j < randomNum + (shipSize * 10)):\n",
    "                if (sprites.sprites()[j].empty == True):\n",
    "                    valid = False\n",
    "                j += 10\n",
    "            if valid:\n",
    "                j = randomNum\n",
    "                while (j < randomNum + (shipSize * 10)):\n",
    "                    sprites.sprites()[j].empty = True\n",
    "                    j += 10    \n",
    "                found = True         "
   ]
  },
  {
   "cell_type": "code",
   "execution_count": 38,
   "metadata": {},
   "outputs": [],
   "source": [
    "def horizontalShip(shipSize, sprites):\n",
    "    found = False\n",
    "    valid = True\n",
    "    while not found:    # while ship position is not found\n",
    "        randomNum = random.randint(0, 99)\n",
    "        if ((randomNum + shipSize) % 10 > randomNum % 10) :\n",
    "            j = randomNum\n",
    "            valid = True\n",
    "            while (j < randomNum + shipSize):\n",
    "                if (sprites.sprites()[j].empty == True):\n",
    "                    valid = False\n",
    "                j += 1\n",
    "            if valid:\n",
    "                j = randomNum\n",
    "                while (j < randomNum + shipSize):\n",
    "                    sprites.sprites()[j].empty = True\n",
    "                    j += 1    \n",
    "                found = True"
   ]
  },
  {
   "cell_type": "code",
   "execution_count": 39,
   "metadata": {},
   "outputs": [],
   "source": [
    "sizes = [5, 4, 3, 3, 2]\n",
    "for size in sizes:  #for each size ship\n",
    "    randOrientation = random.randint(1,2)\n",
    "    if (randOrientation == 1):\n",
    "        verticalShip(size, enemy_sprites)\n",
    "    else:\n",
    "        horizontalShip(size, enemy_sprites)\n",
    "            "
   ]
  },
  {
   "cell_type": "code",
   "execution_count": 40,
   "metadata": {},
   "outputs": [],
   "source": [
    "turnCounter = 0"
   ]
  },
  {
   "cell_type": "code",
   "execution_count": 41,
   "metadata": {},
   "outputs": [],
   "source": [
    "def main():\n",
    "    global turnCounter\n",
    "    running = True\n",
    "    while running:\n",
    "        for event in pygame.event.get():\n",
    "            if event.type == QUIT:\n",
    "                running = False\n",
    "            elif event.type == pygame.MOUSEBUTTONUP:\n",
    "                pos = pygame.mouse.get_pos()\n",
    "                clicked_sprites = [sprite for sprite in enemy_sprites if sprite.rect.collidepoint(pos)]\n",
    "                for sprite in clicked_sprites:\n",
    "                    sprite_width, sprite_height = sprite.image.get_size()\n",
    "                    local_pos = pos[0] - sprite.rect.left, pos[1] - sprite.rect.top\n",
    "                    if (0 <= local_pos[0] < sprite_width) and (0 <= local_pos[1] < sprite_height):\n",
    "                        if (sprite.image.get_at(local_pos) == seaColor and sprite.empty) :\n",
    "                            sprite.image.fill(hitColor)\n",
    "                            turnCounter += 1\n",
    "                        elif (sprite.image.get_at(local_pos) == seaColor):\n",
    "                            sprite.image.fill(missColor)\n",
    "                            turnCounter += 1\n",
    "\n",
    "        enemy_sprites.update()\n",
    "        ally_sprites.update()\n",
    "        \n",
    "        screen.fill((0, 0, 0))\n",
    "        \n",
    "        # Draw letter labels for enemy grid\n",
    "        for i, label in enumerate(letter_labels):\n",
    "            font = pygame.font.Font(None, 24)\n",
    "            text = font.render(label, True, (255, 255, 255))\n",
    "            text_rect = text.get_rect(center=((spriteSize + spacing) * i + startBufferX + spriteSize // 2, startBufferY - 20))\n",
    "            screen.blit(text, text_rect)\n",
    "\n",
    "        # Draw number labels for enemy grid\n",
    "        for i, label in enumerate(number_labels):\n",
    "            font = pygame.font.Font(None, 24)\n",
    "            text = font.render(label, True, (255, 255, 255))\n",
    "            text_rect = text.get_rect(center=(startBufferX - 20, (spriteSize + spacing) * i + startBufferY + spriteSize // 2))\n",
    "            screen.blit(text, text_rect)\n",
    "\n",
    "        # Draw letter labels for ally grid\n",
    "        for i, label in enumerate(letter_labels):\n",
    "            font = pygame.font.Font(None, 24)\n",
    "            text = font.render(label, True, (255, 255, 255))\n",
    "            text_rect = text.get_rect(center=((spriteSize + spacing) * i + startBufferX + height + spriteSize // 2, startBufferY - 20))\n",
    "            screen.blit(text, text_rect)\n",
    "\n",
    "        # Draw number labels for ally grid\n",
    "        for i, label in enumerate(number_labels):\n",
    "            font = pygame.font.Font(None, 24)\n",
    "            text = font.render(label, True, (255, 255, 255))\n",
    "            text_rect = text.get_rect(center=(startBufferX + height - 20, (spriteSize + spacing) * i + startBufferY + spriteSize // 2))\n",
    "            screen.blit(text, text_rect)\n",
    "        \n",
    "        enemy_sprites.draw(screen)\n",
    "        ally_sprites.draw(screen)\n",
    "\n",
    "        pygame.display.flip()\n",
    "        clock.tick(60)"
   ]
  },
  {
   "cell_type": "code",
   "execution_count": 42,
   "metadata": {},
   "outputs": [],
   "source": [
    "if __name__ == \"__main__\":\n",
    "    pygame.init()\n",
    "    main()\n",
    "    \n",
    "pygame.quit()"
   ]
  }
 ],
 "metadata": {
  "kernelspec": {
   "display_name": "base",
   "language": "python",
   "name": "python3"
  },
  "language_info": {
   "codemirror_mode": {
    "name": "ipython",
    "version": 3
   },
   "file_extension": ".py",
   "mimetype": "text/x-python",
   "name": "python",
   "nbconvert_exporter": "python",
   "pygments_lexer": "ipython3",
   "version": "3.11.2"
  },
  "orig_nbformat": 4
 },
 "nbformat": 4,
 "nbformat_minor": 2
}
